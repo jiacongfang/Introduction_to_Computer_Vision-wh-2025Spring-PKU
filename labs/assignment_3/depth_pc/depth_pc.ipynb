{
 "cells": [
  {
   "cell_type": "code",
   "execution_count": 137,
   "metadata": {},
   "outputs": [],
   "source": [
    "import numpy as np\n",
    "import cv2"
   ]
  },
  {
   "cell_type": "code",
   "execution_count": 138,
   "metadata": {},
   "outputs": [
    {
     "name": "stdout",
     "output_type": "stream",
     "text": [
      "[[415.69219382   0.         320.        ]\n",
      " [  0.         415.69219382 240.        ]\n",
      " [  0.           0.           1.        ]]\n"
     ]
    }
   ],
   "source": [
    "# read depth image\n",
    "depth_scale = 0.00012498664727900177\n",
    "depth_img = cv2.imread('depth.png')\n",
    "dpt = depth_img[:, :, 2].astype(np.uint16) + depth_img[:, :, 1].astype(np.uint16) * 256\n",
    "dpt = dpt * depth_scale\n",
    "\n",
    "# read seg image\n",
    "seg = cv2.imread('seg.png')[...,0]  # 255: fore ground, 0: background\n",
    "\n",
    "# read intrinsics and extrinsics\n",
    "K = np.load('intrinsic.npy')\n",
    "print(K)"
   ]
  },
  {
   "cell_type": "code",
   "execution_count": 139,
   "metadata": {},
   "outputs": [
    {
     "name": "stdout",
     "output_type": "stream",
     "text": [
      "point cloud shape: (19375, 3)\n"
     ]
    }
   ],
   "source": [
    "# task1: convert depth image to point cloud\n",
    "def depth2pc(depth, seg, K):\n",
    "    # ------------TODO---------------\n",
    "    # compute point cloud from depth image\n",
    "    # for-loop is not allowed!!\n",
    "    # ------------TODO --------------\n",
    "\talpha, beta = K[0, 0], K[1, 1]\n",
    "\tcx, cy = K[0, 2], K[1, 2]\n",
    "    \n",
    "\t# create a meshgrid for pixel coordinates\n",
    "\th, w = depth.shape\n",
    "\tu, v = np.meshgrid(np.arange(w), np.arange(h))\n",
    "\tu, v = u.flatten(), v.flatten()\n",
    "\tz = depth.flatten()\n",
    "\t\n",
    "\tx = (u - cx) * z / alpha\n",
    "\ty = (v - cy) * z / beta\n",
    "    \n",
    "\t# stack the coordinates and filter by segmentation\n",
    "\tpc = np.vstack((x, y, z)).reshape(depth.shape[0], depth.shape[1], 3)\n",
    "\n",
    "\tpc = pc[seg == 255]\n",
    "\n",
    "\tprint('point cloud shape:', pc.shape)\t\n",
    "\n",
    "\treturn partial_pc\n",
    "\n",
    "partial_pc = depth2pc(dpt, seg, K)\n",
    "\n",
    "# For debug and submission\n",
    "np.savetxt('../results/pc_from_depth.txt', partial_pc)"
   ]
  },
  {
   "cell_type": "code",
   "execution_count": 140,
   "metadata": {},
   "outputs": [
    {
     "name": "stdout",
     "output_type": "stream",
     "text": [
      "Point cloud saved to ../results/partial_pc.obj\n"
     ]
    }
   ],
   "source": [
    "# Save to .obj file and visualize in MeshLab, result can be found in ../results/partial_pc_visual_meshlab.png. \n",
    "def save_point_cloud_to_obj(pc, filename):\n",
    "    \"\"\"\n",
    "    Save point cloud to an .obj file.\n",
    "    Args:\n",
    "        pc: numpy array of shape (N, 3), where N is the number of points.\n",
    "        filename: str, the output .obj file path.\n",
    "    \"\"\"\n",
    "    with open(filename, \"w\") as f:\n",
    "        for point in pc:\n",
    "            f.write(f\"v {point[0]} {point[1]} {point[2]}\\n\")\n",
    "    print(f\"Point cloud saved to {filename}\")\n",
    "\n",
    "\n",
    "save_point_cloud_to_obj(partial_pc, \"../results/partial_pc.obj\")"
   ]
  },
  {
   "cell_type": "markdown",
   "metadata": {},
   "source": [
    "The MeshLab visulization of partial_pc is shown in the figure below. \n",
    "\n",
    "<div style=\"display: flex; justify-content: space-around;\">\n",
    "    <div>\n",
    "        <img src=\"../results/partial_pc_meshlab.png\" alt=\"Partial Point Cloud\" style=\"width: 45%; align: center;\">\n",
    "    </div>\n",
    "</div>\n"
   ]
  },
  {
   "cell_type": "code",
   "execution_count": 141,
   "metadata": {},
   "outputs": [
    {
     "name": "stdout",
     "output_type": "stream",
     "text": [
      "partial pc shape: (2048, 3)\n",
      "full pc shape: (2048, 3)\n",
      "one way chamfer distance:  0.009825480394133496\n"
     ]
    }
   ],
   "source": [
    "# task2: compute one-way chamfer distance to the complete shape\n",
    "full_pc = np.loadtxt('aligned_full_pc.txt')\n",
    "\n",
    "def random_sample(pc, num):\n",
    "    permu = np.random.permutation(pc.shape[0])\n",
    "    return pc[permu][:num]\n",
    "\n",
    "partial_pc_sampled = random_sample(partial_pc, 2048)\n",
    "full_pc_sampled = random_sample(full_pc, 2048)\n",
    "\n",
    "print('partial pc shape:', partial_pc_sampled.shape)\n",
    "print('full pc shape:', full_pc_sampled.shape)\n",
    "\n",
    "# -----------TODO---------------\n",
    "# implement one way chamfer distance\n",
    "# -----------TODO---------------\n",
    "\n",
    "# extent of partial point cloud and full point cloud\n",
    "partial_pc_sampled = partial_pc_sampled[:, None, :]\n",
    "full_pc_sampled = full_pc_sampled[None, :, :]\n",
    "\n",
    "distance_norm =  np.linalg.norm(partial_pc_sampled - full_pc_sampled, axis=2)\n",
    "\n",
    "# fix x in partial_pc_sampled, compute the min distance over full_pc_sampled\n",
    "one_way_CD = np.sum(np.min(distance_norm, axis=1)) / partial_pc_sampled.shape[0]\n",
    "print('one way chamfer distance: ', one_way_CD)\n",
    "\n",
    "# For submission\n",
    "np.savetxt('../results/one_way_CD.txt', one_way_CD[None])\t# extand to 1D array to save"
   ]
  },
  {
   "cell_type": "code",
   "execution_count": 142,
   "metadata": {},
   "outputs": [
    {
     "name": "stdout",
     "output_type": "stream",
     "text": [
      "distance_norm: [[ 5.38516481 10.48808848 15.65247584 20.83266666]\n",
      " [ 3.74165739  8.77496439 13.92838828 19.10497317]]\n",
      "[5.38516481 3.74165739]\n"
     ]
    }
   ],
   "source": [
    "# The following code is for debugging, you can ignore it\n",
    "\n",
    "partial = np.array([[1,1,1], [2,2,2]])\n",
    "full = np.array([[3,4,5], [6,7,8], [9,10,11], [12,13,14]])\n",
    "\n",
    "partial = partial[:, None, :]\n",
    "full = full[None, :, :]\n",
    "\n",
    "distance_norm =  np.linalg.norm(partial - full, axis=2)\n",
    "\n",
    "print(\"distance_norm:\", distance_norm)\n",
    "print(np.min(distance_norm, axis=1))"
   ]
  },
  {
   "cell_type": "code",
   "execution_count": 143,
   "metadata": {},
   "outputs": [
    {
     "name": "stdout",
     "output_type": "stream",
     "text": [
      "norm: [ 5.38516481 10.48808848]\n"
     ]
    }
   ],
   "source": [
    "a = np.array([[1, 1, 1], [1, 1, 1]])\n",
    "b = np.array([[3, 4, 5], [6, 7, 8]]) \n",
    "\n",
    "norm = np.linalg.norm(a - b, axis=1)\n",
    "print('norm:', norm)"
   ]
  }
 ],
 "metadata": {
  "kernelspec": {
   "display_name": "cv",
   "language": "python",
   "name": "python3"
  },
  "language_info": {
   "codemirror_mode": {
    "name": "ipython",
    "version": 3
   },
   "file_extension": ".py",
   "mimetype": "text/x-python",
   "name": "python",
   "nbconvert_exporter": "python",
   "pygments_lexer": "ipython3",
   "version": "3.9.21"
  },
  "orig_nbformat": 4
 },
 "nbformat": 4,
 "nbformat_minor": 2
}
