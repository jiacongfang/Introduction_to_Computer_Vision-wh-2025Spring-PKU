{
 "cells": [
  {
   "cell_type": "code",
   "execution_count": 2,
   "metadata": {},
   "outputs": [],
   "source": [
    "import numpy as np\n",
    "from lookup_table import CaseNum2EdgeOffset, getCaseNum\n",
    "import trimesh\n",
    "import os\n",
    "import time"
   ]
  },
  {
   "cell_type": "code",
   "execution_count": 4,
   "metadata": {},
   "outputs": [],
   "source": [
    "def marching_cube(thres, cells):\n",
    "\t# vertices use dictionary to avoid duplicate axes\n",
    "\tvertex_array = {}\n",
    "\tface_array = []\n",
    "\tt1 = time.time()\n",
    "\t# -------------------TODO------------------\n",
    "\t# compute vertices and faces\n",
    "\t# vertices: [N, 3]\n",
    "\t# faces: [M, 3], e.g. np.array([[0,1,2]]) means a triangle composed of vertices[0], vertices[1] and vertices[2]\n",
    "\t# for-loop is allowed to reduce difficulty\n",
    "\tN1, N2, N3 = cells.shape\n",
    "\tvertex_index = 0\n",
    "\tfor x in range(N1 - 1):\n",
    "\t\tfor y in range(N2 - 1):\n",
    "\t\t\tfor z in range(N3 - 1):\n",
    "\t\t\t\tvertex_for_face = []\n",
    "\t\t\t\tcase_num = getCaseNum(x, y, z, thres, cells)\n",
    "\t\t\t\t\n",
    "\t\t\t\tfor case_value in case_num:\n",
    "\t\t\t\t\tif case_value == -1:\n",
    "\t\t\t\t\t\tcontinue\n",
    "\t\t\t\t\tc1 = np.array(\n",
    "\t\t\t\t\t\t[\n",
    "\t\t\t\t\t\t\tx + CaseNum2EdgeOffset[case_value][0],\n",
    "\t\t\t\t\t\t\ty + CaseNum2EdgeOffset[case_value][1],\n",
    "\t\t\t\t\t\t\tz + CaseNum2EdgeOffset[case_value][2],\n",
    "\t\t\t\t\t\t]\n",
    "\t\t\t\t\t)\n",
    "\t\t\t\t\tc2 = np.array(\n",
    "\t\t\t\t\t\t[\n",
    "\t\t\t\t\t\t\tx + CaseNum2EdgeOffset[case_value][3],\n",
    "\t\t\t\t\t\t\ty + CaseNum2EdgeOffset[case_value][4],\n",
    "\t\t\t\t\t\t\tz + CaseNum2EdgeOffset[case_value][5],\n",
    "\t\t\t\t\t\t]\n",
    "\t\t\t\t\t)\n",
    "\n",
    "\t\t\t\t\tvalue_c1 = cells[c1[0], c1[1], c1[2]]\n",
    "\t\t\t\t\tvalue_c2 = cells[c2[0], c2[1], c2[2]]\n",
    "\n",
    "\t\t\t\t\talpha_1 = abs(thres - value_c2) / (\n",
    "\t\t\t\t\t\tabs(thres - value_c1) + abs(thres - value_c2)\n",
    "\t\t\t\t\t)\n",
    "\t\t\t\t\t# adjust the decimal point to reduce the repeated vertex\n",
    "\t\t\t\t\tvertex = tuple(np.round(alpha_1 * c1 + (1 - alpha_1) * c2, 3))\n",
    "\n",
    "\t\t\t\t\tif vertex not in vertex_array:\n",
    "\t\t\t\t\t\tvertex_array[vertex] = vertex_index\n",
    "\t\t\t\t\t\tvertex_index += 1\n",
    "\t\t\t\t\t\t\n",
    "\t\t\t\t\tvertex_for_face.append(vertex_array[vertex])\n",
    "\t\t\t\t\tif len(vertex_for_face) == 3:\n",
    "\t\t\t\t\t\tface_array.append(vertex_for_face)\n",
    "\t\t\t\t\t\tvertex_for_face = []\n",
    "\t# -------------------TODO------------------\n",
    "\tt2 = time.time()\n",
    "\tprint(\"\\nTime taken by algorithm\\n\" + \"-\" * 40 + \"\\n{} s\".format(t2 - t1))\n",
    "\tvertex_array = list(vertex_array.keys())\t# keys: vertex coordinates, values: vertex index\n",
    "\treturn np.array(vertex_array), np.array(face_array)"
   ]
  },
  {
   "cell_type": "code",
   "execution_count": 5,
   "metadata": {},
   "outputs": [
    {
     "name": "stdout",
     "output_type": "stream",
     "text": [
      "\n",
      "Time taken by algorithm\n",
      "----------------------------------------\n",
      "0.46604418754577637 s\n",
      "shape_name: spot\n",
      "verts shape: (6850, 3)\n",
      "faces shape: (13712, 3)\n",
      "\n",
      "Time taken by algorithm\n",
      "----------------------------------------\n",
      "0.4857621192932129 s\n",
      "shape_name: bob\n",
      "verts shape: (8959, 3)\n",
      "faces shape: (17936, 3)\n"
     ]
    }
   ],
   "source": [
    "# reconstruct these two animals\n",
    "shape_name_lst = ['spot', 'bob']\n",
    "for shape_name in shape_name_lst:\n",
    "\tdata = np.load(os.path.join('data', shape_name + '_cell.npy'))\n",
    "\n",
    "\tverts, faces = marching_cube(0, data)\n",
    "\tprint(f\"shape_name: {shape_name}\")\n",
    "\tprint(f\"verts shape: {verts.shape}\")\n",
    "\tprint(f\"faces shape: {faces.shape}\")\n",
    "\t\n",
    "\tmesh = trimesh.Trimesh(vertices=verts, faces=faces)\n",
    "\tmesh_txt = trimesh.exchange.obj.export_obj(mesh)\n",
    "\twith open(os.path.join('../results', shape_name + '.obj'),\"w\") as fp:\n",
    "\t\tfp.write(mesh_txt)"
   ]
  },
  {
   "cell_type": "markdown",
   "metadata": {},
   "source": [
    "The results visulized by MeshLab are shown below. \n",
    "<div style=\"display: flex; justify-content: space-around;\">\n",
    "    <div>\n",
    "        <img src=\"../results/bob_visual.png\" alt=\"Uniform Sampling\" style=\"width: 100%;\">\n",
    "    </div>\n",
    "    <div>\n",
    "        <img src=\"../results/spot_visual.png\" alt=\"FPS Sampling\" style=\"width: 100%;\">\n",
    "    </div>\n",
    "</div>"
   ]
  }
 ],
 "metadata": {
  "kernelspec": {
   "display_name": "cv",
   "language": "python",
   "name": "python3"
  },
  "language_info": {
   "codemirror_mode": {
    "name": "ipython",
    "version": 3
   },
   "file_extension": ".py",
   "mimetype": "text/x-python",
   "name": "python",
   "nbconvert_exporter": "python",
   "pygments_lexer": "ipython3",
   "version": "3.9.21"
  },
  "orig_nbformat": 4
 },
 "nbformat": 4,
 "nbformat_minor": 2
}
